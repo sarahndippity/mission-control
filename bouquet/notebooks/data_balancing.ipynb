{
 "cells": [
  {
   "cell_type": "markdown",
   "id": "841327cd-de81-4754-8d78-2ed4208331ba",
   "metadata": {},
   "source": [
    "# Dataset Balancer Demonstration\n",
    "Source code: `https://github.com/sarahndippity/sx-portfolio/mission-control/src/dataset_balancer.py` <br>\n",
    "Dataset borrowed from `https://machinelearningmastery.com/standard-machine-learning-datasets-for-imbalanced-classification/`"
   ]
  },
  {
   "cell_type": "code",
   "execution_count": 1,
   "id": "b53a3f15-097b-4096-9b29-62233bfe09ac",
   "metadata": {},
   "outputs": [],
   "source": [
    "import pandas as pd\n",
    "\n",
    "from src.dataset_balancer import DatasetBalancer"
   ]
  },
  {
   "cell_type": "code",
   "execution_count": 2,
   "id": "c1007adb-6261-4980-94bf-8c7c3828d957",
   "metadata": {},
   "outputs": [
    {
     "name": "stdout",
     "output_type": "stream",
     "text": [
      "(214, 10)\n"
     ]
    },
    {
     "data": {
      "text/html": [
       "<div>\n",
       "<style scoped>\n",
       "    .dataframe tbody tr th:only-of-type {\n",
       "        vertical-align: middle;\n",
       "    }\n",
       "\n",
       "    .dataframe tbody tr th {\n",
       "        vertical-align: top;\n",
       "    }\n",
       "\n",
       "    .dataframe thead th {\n",
       "        text-align: right;\n",
       "    }\n",
       "</style>\n",
       "<table border=\"1\" class=\"dataframe\">\n",
       "  <thead>\n",
       "    <tr style=\"text-align: right;\">\n",
       "      <th></th>\n",
       "      <th>feature_1</th>\n",
       "      <th>feature_2</th>\n",
       "      <th>feature_3</th>\n",
       "      <th>feature_4</th>\n",
       "      <th>feature_5</th>\n",
       "      <th>feature_6</th>\n",
       "      <th>feature_7</th>\n",
       "      <th>feature_8</th>\n",
       "      <th>feature_9</th>\n",
       "      <th>target</th>\n",
       "    </tr>\n",
       "  </thead>\n",
       "  <tbody>\n",
       "    <tr>\n",
       "      <th>0</th>\n",
       "      <td>1.52101</td>\n",
       "      <td>13.64</td>\n",
       "      <td>4.49</td>\n",
       "      <td>1.10</td>\n",
       "      <td>71.78</td>\n",
       "      <td>0.06</td>\n",
       "      <td>8.75</td>\n",
       "      <td>0.0</td>\n",
       "      <td>0.0</td>\n",
       "      <td>1</td>\n",
       "    </tr>\n",
       "    <tr>\n",
       "      <th>1</th>\n",
       "      <td>1.51761</td>\n",
       "      <td>13.89</td>\n",
       "      <td>3.60</td>\n",
       "      <td>1.36</td>\n",
       "      <td>72.73</td>\n",
       "      <td>0.48</td>\n",
       "      <td>7.83</td>\n",
       "      <td>0.0</td>\n",
       "      <td>0.0</td>\n",
       "      <td>1</td>\n",
       "    </tr>\n",
       "  </tbody>\n",
       "</table>\n",
       "</div>"
      ],
      "text/plain": [
       "   feature_1  feature_2  feature_3  feature_4  feature_5  feature_6  \\\n",
       "0    1.52101      13.64       4.49       1.10      71.78       0.06   \n",
       "1    1.51761      13.89       3.60       1.36      72.73       0.48   \n",
       "\n",
       "   feature_7  feature_8  feature_9  target  \n",
       "0       8.75        0.0        0.0       1  \n",
       "1       7.83        0.0        0.0       1  "
      ]
     },
     "execution_count": 2,
     "metadata": {},
     "output_type": "execute_result"
    }
   ],
   "source": [
    "# load dataset\n",
    "DATA_URL = \"https://raw.githubusercontent.com/jbrownlee/Datasets/master/glass.csv\"\n",
    "glass_df = pd.read_csv(DATA_URL, header=None)\n",
    "glass_df.columns = [\"feature_1\", \"feature_2\", \"feature_3\", \"feature_4\", \"feature_5\", \n",
    "                    \"feature_6\", \"feature_7\", \"feature_8\", \"feature_9\", \"target\"]\n",
    "print(glass_df.shape)\n",
    "glass_df.head(2)"
   ]
  },
  {
   "cell_type": "code",
   "execution_count": 3,
   "id": "96f25908-63c5-4f34-9ca3-af5d87d87c9e",
   "metadata": {},
   "outputs": [
    {
     "data": {
      "text/plain": [
       "target\n",
       "1    70\n",
       "2    76\n",
       "3    17\n",
       "5    13\n",
       "6     9\n",
       "7    29\n",
       "dtype: int64"
      ]
     },
     "execution_count": 3,
     "metadata": {},
     "output_type": "execute_result"
    }
   ],
   "source": [
    "glass_df.groupby(\"target\").size()"
   ]
  },
  {
   "cell_type": "markdown",
   "id": "891e22c0-e078-4cf6-ab3e-2cacdd864a3c",
   "metadata": {
    "jp-MarkdownHeadingCollapsed": true
   },
   "source": [
    "# Oversampling all minority classes\n",
    "With validation set"
   ]
  },
  {
   "cell_type": "code",
   "execution_count": 4,
   "id": "243e21ac-c75f-4c66-b9a0-dbc49bc9f087",
   "metadata": {},
   "outputs": [
    {
     "name": "stderr",
     "output_type": "stream",
     "text": [
      "2024-08-17 13:33:42 INFO Splitting data into train, val, and test sets.\n",
      "2024-08-17 13:33:42 INFO Starting dataset size: (214, 10)\n",
      "2024-08-17 13:33:42 INFO Training data size - (128, 10), Validation data size - (21, 10), Test data size - (65, 10)\n",
      "2024-08-17 13:33:42 INFO Oversampling the minority class.\n",
      "2024-08-17 13:33:42 INFO Dataset balancing complete. Final dataset size for train set: (276, 10)\n",
      "2024-08-17 13:33:42 INFO validation set: (42, 10)\n",
      "2024-08-17 13:33:42 INFO Successfully generated balanced training, validation, and test datasets.\n"
     ]
    }
   ],
   "source": [
    "db = DatasetBalancer(data=glass_df,\n",
    "                     target_variable=\"target\",\n",
    "                     stratify_cols=[\"target\"],\n",
    "                     balance_strategy=\"oversample\", \n",
    "                     train_ratio=0.6, \n",
    "                     test_ratio=0.3)\n",
    "train, val, test = db.execute_data_balancer()"
   ]
  },
  {
   "cell_type": "code",
   "execution_count": 5,
   "id": "a14f6469-298b-4e6d-b5ff-df48217ea032",
   "metadata": {},
   "outputs": [
    {
     "data": {
      "text/plain": [
       "target\n",
       "1    46\n",
       "2    46\n",
       "3    46\n",
       "5    46\n",
       "6    46\n",
       "7    46\n",
       "dtype: int64"
      ]
     },
     "execution_count": 5,
     "metadata": {},
     "output_type": "execute_result"
    }
   ],
   "source": [
    "train.groupby(\"target\").size()"
   ]
  },
  {
   "cell_type": "markdown",
   "id": "86ef82f9-a8a6-4812-92e8-e63b5942ce8b",
   "metadata": {
    "jp-MarkdownHeadingCollapsed": true
   },
   "source": [
    "# Undersampling all majority classes\n",
    "With no validation set"
   ]
  },
  {
   "cell_type": "code",
   "execution_count": 6,
   "id": "7fde8b40-be3d-4eed-9b89-57e813d80a52",
   "metadata": {},
   "outputs": [
    {
     "name": "stderr",
     "output_type": "stream",
     "text": [
      "2024-08-17 13:34:45 INFO Splitting data into train, val, and test sets.\n",
      "2024-08-17 13:34:45 INFO Starting dataset size: (214, 10)\n",
      "2024-08-17 13:34:45 INFO Training data size - (128, 10), Test data size - (86, 10)\n",
      "2024-08-17 13:34:45 INFO Undersampling the majority class.\n",
      "2024-08-17 13:34:45 INFO Dataset balancing complete. Final dataset size for train set: (30, 10)\n",
      "2024-08-17 13:34:45 INFO Successfully generated balanced training, validation, and test datasets.\n"
     ]
    }
   ],
   "source": [
    "db = DatasetBalancer(data=glass_df,\n",
    "                     target_variable=\"target\",\n",
    "                     stratify_cols=[\"target\"],\n",
    "                     balance_strategy=\"undersample\", \n",
    "                     train_ratio=0.6, \n",
    "                     test_ratio=0.4)\n",
    "train, val, test = db.execute_data_balancer()"
   ]
  },
  {
   "cell_type": "code",
   "execution_count": 7,
   "id": "708c2a1c-8db9-403f-a77a-fdd36faa013d",
   "metadata": {},
   "outputs": [
    {
     "data": {
      "text/plain": [
       "target\n",
       "1    5\n",
       "2    5\n",
       "3    5\n",
       "5    5\n",
       "6    5\n",
       "7    5\n",
       "dtype: int64"
      ]
     },
     "execution_count": 7,
     "metadata": {},
     "output_type": "execute_result"
    }
   ],
   "source": [
    "train.groupby(\"target\").size()"
   ]
  },
  {
   "cell_type": "code",
   "execution_count": 8,
   "id": "1ce1b187-5b1c-4312-8a18-a1d5f3216efd",
   "metadata": {},
   "outputs": [
    {
     "data": {
      "text/html": [
       "<div>\n",
       "<style scoped>\n",
       "    .dataframe tbody tr th:only-of-type {\n",
       "        vertical-align: middle;\n",
       "    }\n",
       "\n",
       "    .dataframe tbody tr th {\n",
       "        vertical-align: top;\n",
       "    }\n",
       "\n",
       "    .dataframe thead th {\n",
       "        text-align: right;\n",
       "    }\n",
       "</style>\n",
       "<table border=\"1\" class=\"dataframe\">\n",
       "  <thead>\n",
       "    <tr style=\"text-align: right;\">\n",
       "      <th></th>\n",
       "    </tr>\n",
       "  </thead>\n",
       "  <tbody>\n",
       "  </tbody>\n",
       "</table>\n",
       "</div>"
      ],
      "text/plain": [
       "Empty DataFrame\n",
       "Columns: []\n",
       "Index: []"
      ]
     },
     "execution_count": 8,
     "metadata": {},
     "output_type": "execute_result"
    }
   ],
   "source": [
    "val"
   ]
  },
  {
   "cell_type": "markdown",
   "id": "c7fbcda4-26c1-401d-9190-569252d1b13b",
   "metadata": {},
   "source": [
    "# Both oversampling and undersampling\n",
    "Using Class 7 as the anchor class"
   ]
  },
  {
   "cell_type": "code",
   "execution_count": 3,
   "id": "6f3f63ed-9d8b-4d6c-974a-2d81e495db58",
   "metadata": {},
   "outputs": [
    {
     "name": "stderr",
     "output_type": "stream",
     "text": [
      "2024-08-17 13:49:10 INFO Splitting data into train, val, and test sets.\n",
      "2024-08-17 13:49:10 INFO Starting dataset size: (214, 10)\n",
      "2024-08-17 13:49:10 INFO Training data size - (128, 10), Validation data size - (21, 10), Test data size - (65, 10)\n",
      "2024-08-17 13:49:10 INFO Undersampling the classes with majority representation above 7\n",
      "2024-08-17 13:49:10 INFO Oversampling the classes with minority representation below 7\n",
      "2024-08-17 13:49:10 INFO Undersampling the classes with majority representation above 7\n",
      "2024-08-17 13:49:10 INFO Oversampling the classes with minority representation below 7\n",
      "2024-08-17 13:49:10 INFO Dataset balancing complete. Final dataset size for train set: (102, 10)\n",
      "2024-08-17 13:49:10 INFO validation set: (18, 10)\n",
      "2024-08-17 13:49:10 INFO Successfully generated balanced training, validation, and test datasets.\n"
     ]
    }
   ],
   "source": [
    "db = DatasetBalancer(data=glass_df,\n",
    "                     target_variable=\"target\",\n",
    "                     stratify_cols=[\"target\"],\n",
    "                     balance_strategy=\"both\", \n",
    "                     train_ratio=0.6, \n",
    "                     test_ratio=0.3, \n",
    "                     sampling_class=7)\n",
    "train, val, test = db.execute_data_balancer()"
   ]
  },
  {
   "cell_type": "code",
   "execution_count": 4,
   "id": "8b85ff8d-2d04-4835-a1e9-720578735eef",
   "metadata": {},
   "outputs": [
    {
     "data": {
      "text/plain": [
       "target\n",
       "1    17\n",
       "2    17\n",
       "3    17\n",
       "5    17\n",
       "6    17\n",
       "7    17\n",
       "dtype: int64"
      ]
     },
     "execution_count": 4,
     "metadata": {},
     "output_type": "execute_result"
    }
   ],
   "source": [
    "train.groupby(\"target\").size()"
   ]
  },
  {
   "cell_type": "code",
   "execution_count": 5,
   "id": "1983f998-731b-4ddc-b786-5d3819dd85f9",
   "metadata": {},
   "outputs": [
    {
     "data": {
      "text/plain": [
       "target\n",
       "1    3\n",
       "2    3\n",
       "3    3\n",
       "5    3\n",
       "6    3\n",
       "7    3\n",
       "dtype: int64"
      ]
     },
     "execution_count": 5,
     "metadata": {},
     "output_type": "execute_result"
    }
   ],
   "source": [
    "val.groupby(\"target\").size()"
   ]
  },
  {
   "cell_type": "code",
   "execution_count": null,
   "id": "f5d1c8a3-fdf0-4218-86e1-265ed8514b16",
   "metadata": {},
   "outputs": [],
   "source": []
  }
 ],
 "metadata": {
  "kernelspec": {
   "display_name": "Python 3 (ipykernel)",
   "language": "python",
   "name": "python3"
  },
  "language_info": {
   "codemirror_mode": {
    "name": "ipython",
    "version": 3
   },
   "file_extension": ".py",
   "mimetype": "text/x-python",
   "name": "python",
   "nbconvert_exporter": "python",
   "pygments_lexer": "ipython3",
   "version": "3.9.19"
  }
 },
 "nbformat": 4,
 "nbformat_minor": 5
}
